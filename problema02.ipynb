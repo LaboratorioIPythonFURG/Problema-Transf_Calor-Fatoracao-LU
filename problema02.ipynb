{
 "cells": [
  {
   "cell_type": "markdown",
   "source": [
    "# Problema\n",
    "\n",
    "Uma consideração importante no estudo de transferência de calor é a de determinar a distribuição de\n",
    "temperatura assintótica de uma placa fina quando a temperatura em seu bordo é conhecida. Suponha que a placa na\n",
    "Figura 2 represente uma seção transversal de uma barra de metal, com fluxo de calor desprezível na direção\n",
    "perpendicular à placa. Sejam $T_1, T_2, \\dots, T_6$ as temperaturas em seis vértices interiores do reticulado da Figura 1. A temperatura num vértice é aproximadamente igual à média dos quatro vértices vizinhos mais próximos - à esquerda, acima, à direita e abaixo. Por exemplo,\n",
    "\n",
    "$$ T_1 = \\frac{(10+20+T_2+T_4)}{4} \\hspace{0.5cm} \\text{ou} \\hspace{0.5cm} 4T_1-T_2-T_4=30  $$\n",
    "\n",
    "| <img src=\"figura2.png\" width=\"300px\"></img> |\n",
    "|:--:|\n",
    "|*Figura 1. Temperatura em seis vértices interiores do reticulado*|\n",
    "\n",
    "**a)** Escreva um sistema de seis equações cuja solução forneça estimativas para as temperaturas $T_1, T_2, \\dots, T_6$\n",
    "\n",
    "**b)** Resolva o sistema linear obtido em **a)** utilizando o método de fatoração LU, sem e com pivotamento."
   ],
   "metadata": {}
  },
  {
   "cell_type": "markdown",
   "source": [
    "# Solução\n",
    "\n",
    "## a) Equações\n",
    "\n",
    "$$\n",
    "T_1 = \\frac{1}{4}(10 + 20 + T_2 + T_4) \\\\\n",
    "T_2 = \\frac{1}{4}(T_1 + 20 + T_3 + T_5) \\\\\n",
    "T_3 = \\frac{1}{4}(T_2 + 20 + 40 + T_6) \\\\\n",
    "T_4 = \\frac{1}{4}(10 + T_1 + T_5 + 20) \\\\\n",
    "T_5 = \\frac{1}{4}(T_4 + T_2 + T_6 + 20) \\\\\n",
    "T_6 = \\frac{1}{4}(T_5 + T_3 + 40 + 20)\n",
    "$$\n",
    "\n",
    "Logo,\n",
    "\n",
    "$$ \\begin{cases}\n",
    "    4T_1 &-&  T_2 &+& 0T_3 &-&  T_4 &+& 0T_5 &+& 0T_6 &=& 30 \\\\\n",
    "    -T_1 &+& 4T_2 &-& T_3  &+& 0T_4 &-& T_5  &+& 0T_6 &=& 20 \\\\\n",
    "    0T_1 &-&  T_2 &+& 4T_3 &+& 0T_4 &+& 0T_5 &-&  T_6 &=& 60  \\\\\n",
    "    -T_1 &+& 0T_2 &+& 0T_3 &+& 4T_4 &-& T_5  &+& 0T_6 &=& 30 \\\\\n",
    "    0T_1 &-&  T_2 &+& 0T_3 &-&  T_4 &+& 4T_5 &-&  T_6 &=& 20 \\\\\n",
    "    0T_1 &+& 0T_2 &-& T_3  &+& 0T_4 &-& T_5  &+& 4T_6 &=& 60\n",
    "\\end{cases} $$\n",
    "\n",
    "Que resulta na matriz de coeficientes:\n",
    "\n",
    "$$\n",
    "\\begin{bmatrix}\n",
    "    4 & -1 & 0 & -1 & 0 & 0 \\\\\n",
    "    -1 & 4 & -1 & 0 & -1 & 0 \\\\\n",
    "    0 & -1 & 4 & 0 & 0 & -1 \\\\\n",
    "    -1 & 0 & 0 & 4 & -1 & 0 \\\\\n",
    "    0 & -1 & 0 & -1 & 4 & -1 \\\\\n",
    "    0 & 0 & -1 & 0 & -1 & 4\n",
    "\\end{bmatrix}\n",
    "$$\n"
   ],
   "metadata": {}
  },
  {
   "cell_type": "markdown",
   "source": [
    "## b) [Fatoração LU](https://pt.wikipedia.org/wiki/Decomposi%C3%A7%C3%A3o_LU)"
   ],
   "metadata": {}
  },
  {
   "cell_type": "markdown",
   "source": [
    "A fatoração de uma matriz $A$ é uma equação que expressa $A$ como o produto de duas ou mais matrizes. \n",
    "\n",
    "Na linguagem da ciência da computação, a expressão que representa $A$ na forma de um produto pode ser entendida como um processamento de dados, pois os dados são organizados em duas ou mais partes cujas estruturas, de alguma forma, são mais fáceis de lidar computacionalmente.\n",
    "\n",
    "A fatoração LU é amplamente aplicada quando quer-se resolver uma sequência de equações, todas com a mesma matriz de coeficientes, por exemplo:\n",
    "\n",
    "$$ Ax=b_1, \\quad Ax=b_2, \\quad \\cdots, Ax=b_n. $$\n",
    "\n",
    "Seu resultado é a descrição de $A$ como o produto de duas matrizes, $L$ e $U$, matrizes triangulares inferior e superior, respectivamente.\n",
    "\n",
    "$$ A = LU $$\n",
    "\n",
    "$$ \n",
    "\\begin{bmatrix}\n",
    "a_{11} & a_{12} & a_{13} & \\dots & a_{1n} \\\\\n",
    "a_{21} & a_{22} & a_{23} & \\dots & a_{2n} \\\\\n",
    "a_{21} & a_{32} & a_{33} & \\dots & a_{3n} \\\\\n",
    "\\dots \\\\\n",
    "a_{m1} & a_{m2} & a_{m3} & \\dots & a_{mn} \\\\\n",
    "\\end{bmatrix}\n",
    "\n",
    "= \n",
    "\n",
    "\\begin{bmatrix}\n",
    "l_{11} & 0 & 0 & \\dots & 0 \\\\\n",
    "l_{21} & l_{22} & 0 & \\dots & 0  \\\\\n",
    "l_{31} & l_{32} & l_{33} & \\dots & 0  \\\\\n",
    "\\dots \\\\\n",
    "l_{m1} & l_{m2} & l_{m3} & \\dots & l_{mn} \\\\\n",
    "\\end{bmatrix}\n",
    "\n",
    "\\begin{bmatrix}\n",
    "u_{11} & u_{12} & u_{13} & \\dots & u_{1n} \\\\\n",
    "0 & u_{22} & u_{23} & \\dots & u_{2n} \\\\\n",
    "0 & 0 & u_{33} & \\dots & u_{3n} \\\\\n",
    "\\dots \\\\\n",
    "0 & 0 & 0 & \\dots & u_{mn} \\\\\n",
    "\\end{bmatrix}\n",
    "\n",
    "$$"
   ],
   "metadata": {}
  },
  {
   "cell_type": "markdown",
   "source": [
    "O algoritmo de decomposição LU é essencialmente uma forma modificada do algoritmo da eliminação de Gauss.\n",
    "A maior diferença está no fato de que, se armazenarmos numa segunda matriz identidade $L$ os coeficientes aos quais as linhas da matriz original estão sendo multiplicadas, obtemos uma matriz triangular inferior.\n",
    "\n",
    "$$\n",
    "L = \n",
    "\\begin{bmatrix}\n",
    "1 & 0 & 0 & \\dots & 0 \\\\\n",
    "\\frac{a_{21}}{a_{11}} & 1 & 0 & \\dots & 0  \\\\\n",
    "\\frac{a_{31}}{a_{11}} & \\frac{a_{32}}{a_{22}} & 1 & \\dots & 0  \\\\\n",
    "\\dots \\\\\n",
    "\\frac{a_{m1}}{a_{11}} & \\frac{a_{m2}}{a_{22}} & \\frac{a_{m3}}{a_{33}} & \\dots & 1\\\\\n",
    "\\end{bmatrix}\n",
    "$$\n",
    "\n",
    "Quando essa matriz $L$ é multiplicada pela matriz triangular superior resultante da eliminação de Gauss $U$, obtemos $A$.\n",
    "\n",
    "Se para cada coluna da eliminação gaussiana definirmos a matriz $L_i$, também identidade, apenas com os coeficientes da coluna atual,\n",
    "Também, podemos descrever cada passo da eliminação gaussiana $A_i$ como\n",
    "$$ A_i = L_iA_{i-1} $$\n",
    "\n",
    "Por consequência temos\n",
    "$$ A_i = L_iA_{i-1} = L_iL_{i-1}A_{i-2} = L_iL_{i-1}L_{i-2}A_{i-3} = L_iL_{i-1}L_{i-2}\\dots L_1A_0 $$\n",
    "\n",
    "Isolando $A_0$, ou $A$,\n",
    "$$\n",
    "\\begin{align*} \n",
    "A_i &= L_i A_{i-1} \\\\\n",
    "L_i^{-1}A_i &= A_{i-1}  \\\\\n",
    "L_i^{-1}A_i &= L_{i-1}A_{i-2} \\\\\n",
    "L_{i-1}L_iA_i &= A_{i-2} \\\\\n",
    "\\dots \\\\\n",
    "L_1^{-1}L_2^{-1} \\dots L_i^{-1}A_i &= A_0 \\\\\n",
    "(L_1L_2 \\dots L_i)^{-1}A_i &= A_0 = A\n",
    "\\end{align*}\n",
    "$$\n"
   ],
   "metadata": {}
  },
  {
   "cell_type": "code",
   "execution_count": 4,
   "source": [
    "import numpy as np\n",
    "from IPython.display import display, Markdown, Latex\n",
    "from furg_imef_verificador_respostas import Verificador\n",
    "\n",
    "def verificar_resposta(x):\n",
    "    verificador = Verificador()\n",
    "    verificador.verificar_resposta(x)\n"
   ],
   "outputs": [],
   "metadata": {}
  },
  {
   "cell_type": "code",
   "execution_count": 89,
   "source": [
    "A = np.array([\n",
    "    [ 4, -1,  0, -1,  0,  0],\n",
    "    [-1,  4, -1,  0, -1,  0],\n",
    "    [ 0, -1,  4,  0,  0, -1],\n",
    "    [-1,  0,  0,  4, -1,  0],\n",
    "    [ 0, -1,  0, -1,  4, -1],\n",
    "    [ 0,  0, -1,  0, -1,  4]\n",
    "]).astype(np.float32)\n",
    "\n",
    "b = np.array([30, 20, 60, 30, 20, 60])"
   ],
   "outputs": [],
   "metadata": {}
  },
  {
   "cell_type": "markdown",
   "source": [
    "### Sem pivotamento"
   ],
   "metadata": {}
  },
  {
   "cell_type": "code",
   "execution_count": 90,
   "source": [
    "# Criamos inicialmente um array de matrizes, com o item 0 sendo a matriz de coeficientes.\n",
    "As = [A.copy()]\n",
    "\n",
    "# Fazemos o mesmo com o item 0 sendo uma matriz identidade nas mesmas dimensões que A.\n",
    "Ls = [np.eye(A.shape[0])]\n",
    "\n",
    "# Para cada linha j de A\n",
    "for j in range(As[0].shape[0]):\n",
    "    # Selecionamos a matriz na posição j do nosso array de matrizes A.\n",
    "    A_i = As[j]\n",
    "\n",
    "    # Selecionamos também o valor equivalente à j na diagonal principal.\n",
    "    a_nn = A_i[j,j]\n",
    "    \n",
    "    # Criamos uma cópia da matriz que estamos trabalhando ( A_i ) \n",
    "    A_j = A_i.copy()\n",
    "\n",
    "    # E criamos uma nova matriz identidade. I_j\n",
    "    L_n = np.eye(A_i.shape[0])\n",
    "\n",
    "    # Para cada coluna à direita do valor da linha j, na matriz A_i\n",
    "    for i in range(j+1, A_i.shape[1]):\n",
    "        # Selecionamos o valor em i, j\n",
    "        a_in = A_j[i,j]\n",
    "\n",
    "        # Calculamos o coeficiente que reduz a linha à 0.\n",
    "        l_in = -a_in/a_nn\n",
    "\n",
    "        # Atualizamos o valor da matriz identidade atual para o coeficiente.\n",
    "        L_n[i, j] = l_in\n",
    "        \n",
    "    # Multiplicamos a matriz de coeficientes pela matriz com os coeficientes calculados,\n",
    "    # reduzindo os valores abaixo do pivô a 0.\n",
    "    A_n = L_n@A_j\n",
    "    \n",
    "    # Adicionamos ao array de matrizes a matriz atual.\n",
    "    As.append(A_n)\n",
    "\n",
    "    # Fazemos o mesmo com a matriz de coeficientes.\n",
    "    Ls.append(L_n)\n",
    "\n",
    "L = np.eye(A.shape[0])\n",
    "for L_i in Ls:\n",
    "    L = L@L_i\n",
    "L = np.linalg.inv(L)\n",
    "U = As[-1]\n",
    "\n",
    "display((L@U).round(0))\n",
    "A\n",
    "\n",
    "    "
   ],
   "outputs": [
    {
     "output_type": "display_data",
     "data": {
      "text/plain": [
       "array([[ 4., -1.,  0., -1.,  0.,  0.],\n",
       "       [-1.,  4., -1.,  0., -1.,  0.],\n",
       "       [ 0., -1.,  4., -0.,  0., -1.],\n",
       "       [-1.,  0., -0.,  4., -1.,  0.],\n",
       "       [ 1., -1., -0., -1.,  4., -1.],\n",
       "       [-0.,  1., -1.,  0., -1.,  4.]])"
      ]
     },
     "metadata": {}
    },
    {
     "output_type": "execute_result",
     "data": {
      "text/plain": [
       "array([[ 4., -1.,  0., -1.,  0.,  0.],\n",
       "       [-1.,  4., -1.,  0., -1.,  0.],\n",
       "       [ 0., -1.,  4.,  0.,  0., -1.],\n",
       "       [-1.,  0.,  0.,  4., -1.,  0.],\n",
       "       [ 0., -1.,  0., -1.,  4., -1.],\n",
       "       [ 0.,  0., -1.,  0., -1.,  4.]], dtype=float32)"
      ]
     },
     "metadata": {},
     "execution_count": 90
    }
   ],
   "metadata": {}
  },
  {
   "cell_type": "markdown",
   "source": [
    "## Versão reduzida do algoritmo\n",
    "\n",
    "Como dito antes, a matriz $L$ pode ser encontrada armazenando os coeficientes do processo de eliminação numa matriz identidade. O algoritmo poderia então ser implementado como:"
   ],
   "metadata": {}
  },
  {
   "cell_type": "code",
   "execution_count": 92,
   "source": [
    "def lu_decomp(M):\n",
    "    M = M.copy()\n",
    "    L = np.eye(M.shape[0])\n",
    "    for i in range(M.shape[0]):\n",
    "        aii = M[i, i]\n",
    "        for j in range(i+1, M.shape[0]):\n",
    "            aij = M[i, j]\n",
    "            coef = aij / aii\n",
    "            M[j,:] = M[j,:]-M[i,:]*coef\n",
    "            L[j, i] = coef\n",
    "\n",
    "    return M, L\n",
    "\n",
    "M = A\n",
    "U, L = lu_decomp(M)\n",
    "\n",
    "display(L.round(1), U.round(1))\n",
    "display((L@U).round(2))"
   ],
   "outputs": [
    {
     "output_type": "display_data",
     "data": {
      "text/plain": [
       "array([[ 1. ,  0. ,  0. ,  0. ,  0. ,  0. ],\n",
       "       [-0.2,  1. ,  0. ,  0. ,  0. ,  0. ],\n",
       "       [ 0. , -0.3,  1. ,  0. ,  0. ,  0. ],\n",
       "       [-0.2, -0.1, -0. ,  1. ,  0. ,  0. ],\n",
       "       [ 0. , -0.3, -0.1, -0.3,  1. ,  0. ],\n",
       "       [ 0. ,  0. , -0.3, -0. , -0.3,  1. ]])"
      ]
     },
     "metadata": {}
    },
    {
     "output_type": "display_data",
     "data": {
      "text/plain": [
       "array([[ 4. , -1. ,  0. , -1. ,  0. ,  0. ],\n",
       "       [ 0. ,  3.8, -1. , -0.2, -1. ,  0. ],\n",
       "       [ 0. ,  0. ,  3.7, -0.1, -0.3, -1. ],\n",
       "       [ 0. ,  0. ,  0. ,  3.7, -1.1, -0. ],\n",
       "       [ 0. ,  0. ,  0. ,  0. ,  3.4, -1.1],\n",
       "       [ 0. ,  0. ,  0. ,  0. ,  0. ,  3.4]], dtype=float32)"
      ]
     },
     "metadata": {}
    },
    {
     "output_type": "display_data",
     "data": {
      "text/plain": [
       "array([[ 4., -1.,  0., -1.,  0.,  0.],\n",
       "       [-1.,  4., -1.,  0., -1.,  0.],\n",
       "       [ 0., -1.,  4.,  0.,  0., -1.],\n",
       "       [-1., -0.,  0.,  4., -1.,  0.],\n",
       "       [ 0., -1.,  0., -1.,  4., -1.],\n",
       "       [ 0.,  0., -1., -0., -1.,  4.]])"
      ]
     },
     "metadata": {}
    }
   ],
   "metadata": {}
  },
  {
   "cell_type": "markdown",
   "source": [
    "### Com pivotamento"
   ],
   "metadata": {}
  },
  {
   "cell_type": "markdown",
   "source": [
    "# Decomposição QR"
   ],
   "metadata": {}
  },
  {
   "cell_type": "code",
   "execution_count": 18,
   "source": [
    "import math \n",
    "\n",
    "def proj(u, v):\n",
    "    return np.dot(u, v) / np.dot(u, u) * u\n",
    "\n",
    "def QR_decomp(A):\n",
    "    u = []\n",
    "    for i in range(A.shape[1]):\n",
    "        u.append(\n",
    "            A[:,i] - np.sum([ proj(u[j], A[:, i]) for j in range(i) ], axis=0 )\n",
    "        )\n",
    "\n",
    "    Q = np.array([u[i]/math.sqrt(np.dot(u[i],u[i])) for i in range(len(u))]).T\n",
    "\n",
    "    R = []\n",
    "    for i in range(A.shape[0]):\n",
    "        R.append(\n",
    "            [ np.dot(Q[:,i], A[:,j])*(1-max(0, min(i-j,1))) for j in range(A.shape[1]) ]\n",
    "        )\n",
    "    R = np.array(R)\n",
    "\n",
    "    return Q, R\n",
    "\n",
    "# Resolve um sistema de equações cuja matriz de coeficientes é \n",
    "# do tipo triangular superiora.\n",
    "def resolver_U(U, b):\n",
    "    x = np.zeros(U.shape[1])\n",
    "    for i in reversed(range(U.shape[0])):\n",
    "        x[i]= ( b[i] - np.sum([U[i,j]*x[j] for j in range(i+1, U.shape[0])]) ) / U[i,i]\n",
    "    return x\n",
    "\n",
    "\n",
    "Q, R = QR_decomp(A)\n",
    "display(R.round(2), (Q.T@b).round(2))\n",
    "x = resolver_U(R, Q.T@b)\n",
    "\n",
    "verificador.verificar_resposta(x)\n"
   ],
   "outputs": [
    {
     "output_type": "display_data",
     "data": {
      "text/plain": [
       "array([[ 4.24, -1.89,  0.24, -1.89,  0.47,  0.  ],\n",
       "       [-0.  ,  3.93, -1.92, -0.4 , -1.81,  0.51],\n",
       "       [-0.  , -0.  ,  3.77, -0.08, -0.42, -1.86],\n",
       "       [ 0.  , -0.  ,  0.  ,  3.78, -2.08,  0.28],\n",
       "       [ 0.  ,  0.  ,  0.  , -0.  ,  3.32, -2.2 ],\n",
       "       [ 0.  , -0.  ,  0.  , -0.  ,  0.  ,  3.06]])"
      ]
     },
     "metadata": {}
    },
    {
     "output_type": "display_data",
     "data": {
      "text/plain": [
       "array([16.5 ,  0.28, 41.5 , 27.71, 11.42, 83.11])"
      ]
     },
     "metadata": {}
    },
    {
     "output_type": "stream",
     "name": "stdout",
     "text": [
      "Resposta correta!\n"
     ]
    },
    {
     "output_type": "execute_result",
     "data": {
      "text/plain": [
       "True"
      ]
     },
     "metadata": {},
     "execution_count": 18
    }
   ],
   "metadata": {}
  }
 ],
 "metadata": {
  "kernelspec": {
   "name": "python3",
   "display_name": "Python 3.8.10 64-bit"
  },
  "language_info": {
   "codemirror_mode": {
    "name": "ipython",
    "version": 3
   },
   "file_extension": ".py",
   "mimetype": "text/x-python",
   "name": "python",
   "nbconvert_exporter": "python",
   "pygments_lexer": "ipython3",
   "version": "3.8.10"
  },
  "interpreter": {
   "hash": "916dbcbb3f70747c44a77c7bcd40155683ae19c65e1c03b4aa3499c5328201f1"
  }
 },
 "nbformat": 4,
 "nbformat_minor": 5
}