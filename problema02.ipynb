{
 "cells": [
  {
   "cell_type": "markdown",
   "source": [
    "# Problema\n",
    "\n",
    "Uma consideração importante no estudo de transferência de calor é a de determinar a distribuição de\n",
    "temperatura assintótica de uma placa fina quando a temperatura em seu bordo é conhecida. Suponha que a placa na\n",
    "Figura 2 represente uma seção transversal de uma barra de metal, com fluxo de calor desprezível na direção\n",
    "perpendicular à placa. Sejam $T_1, T_2, \\dots, T_6$ as temperaturas em seis vértices interiores do reticulado da Figura 1. A temperatura num vértice é aproximadamente igual à média dos quatro vértices vizinhos mais próximos - à esquerda, acima, à direita e abaixo. Por exemplo,\n",
    "\n",
    "$$ T_1 = \\frac{(10+20+T_2+T_4)}{4} \\hspace{0.5cm} \\text{ou} \\hspace{0.5cm} 4T_1-T_2-T_4=30  $$\n",
    "\n",
    "| <img src=\"figura2.png\" width=\"300px\"></img> |\n",
    "|:--:|\n",
    "|*Figura 1. Temperatura em seis vértices interiores do reticulado*|\n",
    "\n",
    "**a)** Escreva um sistema de seis equações cuja solução forneça estimativas para as temperaturas $T_1, T_2, \\dots, T_6$\n",
    "\n",
    "**b)** Resolva o sistema linear obtido em **a)** utilizando o método de fatoração LU, sem e com pivotamento."
   ],
   "metadata": {}
  },
  {
   "cell_type": "markdown",
   "source": [
    "# Solução\n",
    "\n",
    "## a) Equações\n",
    "\n",
    "$$\n",
    "T_1 = \\frac{1}{4}(10 + 20 + T_2 + T_4) \\\\\n",
    "T_2 = \\frac{1}{4}(T_1 + 20 + T_3 + T_5) \\\\\n",
    "T_3 = \\frac{1}{4}(T_2 + 20 + 40 + T_6) \\\\\n",
    "T_4 = \\frac{1}{4}(10 + T_1 + T_5 + 20) \\\\\n",
    "T_5 = \\frac{1}{4}(T_4 + T_2 + T_6 + 20) \\\\\n",
    "T_6 = \\frac{1}{4}(T_5 + T_3 + 40 + 20)\n",
    "$$\n",
    "\n",
    "Logo,\n",
    "\n",
    "$$ \\begin{cases}\n",
    "    4T_1 &-&  T_2 &+& 0T_3 &-&  T_4 &+& 0T_5 &+& 0T_6 &=& 30 \\\\\n",
    "    -T_1 &+& 4T_2 &-& T_3  &+& 0T_4 &-& T_5  &+& 0T_6 &=& 20 \\\\\n",
    "    0T_1 &-&  T_2 &+& 4T_3 &+& 0T_4 &+& 0T_5 &-&  T_6 &=& 60  \\\\\n",
    "    -T_1 &+& 0T_2 &+& 0T_3 &+& 4T_4 &-& T_5  &+& 0T_6 &=& 30 \\\\\n",
    "    0T_1 &-&  T_2 &+& 0T_3 &-&  T_4 &+& 4T_5 &-&  T_6 &=& 20 \\\\\n",
    "    0T_1 &+& 0T_2 &-& T_3  &+& 0T_4 &-& T_5  &+& 4T_6 &=& 60\n",
    "\\end{cases} $$\n",
    "\n",
    "Que resulta na matriz de coeficientes:\n",
    "\n",
    "$$\n",
    "\\begin{bmatrix}\n",
    "    4 & -1 & 0 & -1 & 0 & 0 \\\\\n",
    "    -1 & 4 & -1 & 0 & -1 & 0 \\\\\n",
    "    0 & -1 & 4 & 0 & 0 & -1 \\\\\n",
    "    -1 & 0 & 0 & 4 & -1 & 0 \\\\\n",
    "    0 & -1 & 0 & -1 & 4 & -1 \\\\\n",
    "    0 & 0 & -1 & 0 & -1 & 4\n",
    "\\end{bmatrix}\n",
    "$$\n"
   ],
   "metadata": {}
  },
  {
   "cell_type": "markdown",
   "source": [
    "## b) [Fatoração LU](https://pt.wikipedia.org/wiki/Decomposi%C3%A7%C3%A3o_LU)"
   ],
   "metadata": {}
  },
  {
   "cell_type": "markdown",
   "source": [
    "A fatoração de uma matriz $A$ é uma equação que expressa $A$ como o produto de duas ou mais matrizes. \n",
    "\n",
    "Na linguagem da ciência da computação, a expressão que representa $A$ na forma de um produto pode ser entendida como um processamento de dados, pois os dados são organizados em duas ou mais partes cujas estruturas, de alguma forma, são mais fáceis de lidar computacionalmente.\n",
    "\n",
    "A fatoração LU é amplamente aplicada quando quer-se resolver uma sequência de equações, todas com a mesma matriz de coeficientes, por exemplo:\n",
    "\n",
    "$$ Ax=b_1, \\quad Ax=b_2, \\quad \\cdots, Ax=b_n. $$\n",
    "\n",
    "Seu resultado é a descrição de $A$ como o produto de duas matrizes, $L$ e $U$, matrizes triangulares inferior e superior, respectivamente.\n",
    "\n",
    "$$ A = LU $$\n",
    "\n",
    "$$ \n",
    "\\begin{bmatrix}\n",
    "a_{11} & a_{12} & a_{13} & \\dots & a_{1n} \\\\\n",
    "a_{21} & a_{22} & a_{23} & \\dots & a_{2n} \\\\\n",
    "a_{21} & a_{32} & a_{33} & \\dots & a_{3n} \\\\\n",
    "\\dots \\\\\n",
    "a_{m1} & a_{m2} & a_{m3} & \\dots & a_{mn} \\\\\n",
    "\\end{bmatrix}\n",
    "\n",
    "= \n",
    "\n",
    "\\begin{bmatrix}\n",
    "l_{11} & 0 & 0 & \\dots & 0 \\\\\n",
    "l_{21} & l_{22} & 0 & \\dots & 0  \\\\\n",
    "l_{31} & l_{32} & l_{33} & \\dots & 0  \\\\\n",
    "\\dots \\\\\n",
    "l_{m1} & l_{m2} & l_{m3} & \\dots & l_{mn} \\\\\n",
    "\\end{bmatrix}\n",
    "\n",
    "\\begin{bmatrix}\n",
    "u_{11} & u_{12} & u_{13} & \\dots & u_{1n} \\\\\n",
    "0 & u_{22} & u_{23} & \\dots & u_{2n} \\\\\n",
    "0 & 0 & u_{33} & \\dots & u_{3n} \\\\\n",
    "\\dots \\\\\n",
    "0 & 0 & 0 & \\dots & u_{mn} \\\\\n",
    "\\end{bmatrix}\n",
    "\n",
    "$$"
   ],
   "metadata": {}
  },
  {
   "cell_type": "code",
   "execution_count": 4,
   "source": [
    "import numpy as np\n",
    "from IPython.display import display, Markdown, Latex\n",
    "from furg_imef_verificador_respostas import Verificador\n",
    "\n",
    "def verificar_resposta(x):\n",
    "    verificador = Verificador()\n",
    "    verificador.verificar_resposta(x)\n"
   ],
   "outputs": [],
   "metadata": {}
  },
  {
   "cell_type": "code",
   "execution_count": 5,
   "source": [
    "A = np.array([\n",
    "    [ 4, -1,  0, -1,  0,  0],\n",
    "    [-1,  4, -1,  0, -1,  0],\n",
    "    [ 0, -1,  4,  0,  0, -1],\n",
    "    [-1,  0,  0,  4, -1,  0],\n",
    "    [ 0, -1,  0, -1,  4, -1],\n",
    "    [ 0,  0, -1,  0, -1,  4]\n",
    "])\n",
    "\n",
    "b = np.array([30, 20, 60, 30, 20, 60])"
   ],
   "outputs": [],
   "metadata": {}
  },
  {
   "cell_type": "markdown",
   "source": [
    "### Sem pivotamento"
   ],
   "metadata": {}
  },
  {
   "cell_type": "code",
   "execution_count": 17,
   "source": [
    "#A2 = A.copy()\n",
    "#A_0 = A2.copy()\n",
    "As = [A.copy()]\n",
    "Ls = [np.eye(A.shape[0])]\n",
    "\n",
    "for j in range(As[0].shape[0]):\n",
    "    A_i = As[j]\n",
    "    display(A_i[j, :])\n",
    "    a_nn = A_i[j,j]\n",
    "    \n",
    "    A_j = A_i.copy()\n",
    "    #L_n = Ls[j].copy()\n",
    "    L_n = np.eye(A_i.shape[0])\n",
    "    for i in range(j+1, A_i.shape[1]):\n",
    "        a_in = A_j[i,j]\n",
    "        l_in = -a_in/a_nn\n",
    "        #display(A_i[i,:]*l_in+A_j[i,:])\n",
    "        #A_j[i,:] = (A_i[j,:]*l_in+A_j[i,:])\n",
    "        L_n[i, j] = l_in\n",
    "        \n",
    "    A_n = L_n@A_j\n",
    "    \n",
    "    As.append(A_n)\n",
    "    Ls.append(L_n)\n",
    "\n",
    "#display(Ls)\n",
    "display(A)\n",
    "L = np.eye(A.shape[0])\n",
    "for L_i in Ls:\n",
    "    L = L@np.linalg.inv(L_i)\n",
    "display(L.round(1))\n",
    "display((L*As[-1]).round(1))\n",
    "#display((Ls[-1]@As[-1]).round())\n",
    "    "
   ],
   "outputs": [
    {
     "output_type": "display_data",
     "data": {
      "text/plain": [
       "array([ 4, -1,  0, -1,  0,  0])"
      ]
     },
     "metadata": {}
    },
    {
     "output_type": "display_data",
     "data": {
      "text/plain": [
       "array([ 0.  ,  3.75, -1.  , -0.25, -1.  ,  0.  ])"
      ]
     },
     "metadata": {}
    },
    {
     "output_type": "display_data",
     "data": {
      "text/plain": [
       "array([ 0.        ,  0.        ,  3.73333333, -0.06666667, -0.26666667,\n",
       "       -1.        ])"
      ]
     },
     "metadata": {}
    },
    {
     "output_type": "display_data",
     "data": {
      "text/plain": [
       "array([ 0.        ,  0.        ,  0.        ,  3.73214286, -1.07142857,\n",
       "       -0.01785714])"
      ]
     },
     "metadata": {}
    },
    {
     "output_type": "display_data",
     "data": {
      "text/plain": [
       "array([ 0.        ,  0.        ,  0.        ,  0.        ,  3.40669856,\n",
       "       -1.07655502])"
      ]
     },
     "metadata": {}
    },
    {
     "output_type": "display_data",
     "data": {
      "text/plain": [
       "array([0.        , 0.        , 0.        , 0.        , 0.        ,\n",
       "       3.39185393])"
      ]
     },
     "metadata": {}
    },
    {
     "output_type": "display_data",
     "data": {
      "text/plain": [
       "array([[ 4, -1,  0, -1,  0,  0],\n",
       "       [-1,  4, -1,  0, -1,  0],\n",
       "       [ 0, -1,  4,  0,  0, -1],\n",
       "       [-1,  0,  0,  4, -1,  0],\n",
       "       [ 0, -1,  0, -1,  4, -1],\n",
       "       [ 0,  0, -1,  0, -1,  4]])"
      ]
     },
     "metadata": {}
    },
    {
     "output_type": "display_data",
     "data": {
      "text/plain": [
       "array([[ 1. ,  0. ,  0. ,  0. ,  0. ,  0. ],\n",
       "       [-0.2,  1. ,  0. ,  0. ,  0. ,  0. ],\n",
       "       [ 0. , -0.3,  1. ,  0. ,  0. ,  0. ],\n",
       "       [-0.2, -0.1, -0. ,  1. ,  0. ,  0. ],\n",
       "       [ 0. , -0.3, -0.1, -0.3,  1. ,  0. ],\n",
       "       [ 0. ,  0. , -0.3, -0. , -0.3,  1. ]])"
      ]
     },
     "metadata": {}
    },
    {
     "output_type": "display_data",
     "data": {
      "text/plain": [
       "array([[ 4. , -0. ,  0. , -0. ,  0. ,  0. ],\n",
       "       [-0. ,  3.8, -0. , -0. , -0. ,  0. ],\n",
       "       [ 0. , -0. ,  3.7, -0. , -0. , -0. ],\n",
       "       [-0. , -0. , -0. ,  3.7, -0. , -0. ],\n",
       "       [ 0. , -0. , -0. , -0. ,  3.4, -0. ],\n",
       "       [ 0. ,  0. , -0. , -0. , -0. ,  3.4]])"
      ]
     },
     "metadata": {}
    }
   ],
   "metadata": {}
  },
  {
   "cell_type": "markdown",
   "source": [
    "### Com pivotamento"
   ],
   "metadata": {}
  },
  {
   "cell_type": "markdown",
   "source": [
    "# Decomposição QR"
   ],
   "metadata": {}
  },
  {
   "cell_type": "code",
   "execution_count": 18,
   "source": [
    "import math \n",
    "\n",
    "def proj(u, v):\n",
    "    return np.dot(u, v) / np.dot(u, u) * u\n",
    "\n",
    "def QR_decomp(A):\n",
    "    u = []\n",
    "    for i in range(A.shape[1]):\n",
    "        u.append(\n",
    "            A[:,i] - np.sum([ proj(u[j], A[:, i]) for j in range(i) ], axis=0 )\n",
    "        )\n",
    "\n",
    "    Q = np.array([u[i]/math.sqrt(np.dot(u[i],u[i])) for i in range(len(u))]).T\n",
    "\n",
    "    R = []\n",
    "    for i in range(A.shape[0]):\n",
    "        R.append(\n",
    "            [ np.dot(Q[:,i], A[:,j])*(1-max(0, min(i-j,1))) for j in range(A.shape[1]) ]\n",
    "        )\n",
    "    R = np.array(R)\n",
    "\n",
    "    return Q, R\n",
    "\n",
    "# Resolve um sistema de equações cuja matriz de coeficientes é \n",
    "# do tipo triangular superiora.\n",
    "def resolver_U(U, b):\n",
    "    x = np.zeros(U.shape[1])\n",
    "    for i in reversed(range(U.shape[0])):\n",
    "        x[i]= ( b[i] - np.sum([U[i,j]*x[j] for j in range(i+1, U.shape[0])]) ) / U[i,i]\n",
    "    return x\n",
    "\n",
    "\n",
    "Q, R = QR_decomp(A)\n",
    "display(R.round(2), (Q.T@b).round(2))\n",
    "x = resolver_U(R, Q.T@b)\n",
    "\n",
    "verificador.verificar_resposta(x)\n"
   ],
   "outputs": [
    {
     "output_type": "display_data",
     "data": {
      "text/plain": [
       "array([[ 4.24, -1.89,  0.24, -1.89,  0.47,  0.  ],\n",
       "       [-0.  ,  3.93, -1.92, -0.4 , -1.81,  0.51],\n",
       "       [-0.  , -0.  ,  3.77, -0.08, -0.42, -1.86],\n",
       "       [ 0.  , -0.  ,  0.  ,  3.78, -2.08,  0.28],\n",
       "       [ 0.  ,  0.  ,  0.  , -0.  ,  3.32, -2.2 ],\n",
       "       [ 0.  , -0.  ,  0.  , -0.  ,  0.  ,  3.06]])"
      ]
     },
     "metadata": {}
    },
    {
     "output_type": "display_data",
     "data": {
      "text/plain": [
       "array([16.5 ,  0.28, 41.5 , 27.71, 11.42, 83.11])"
      ]
     },
     "metadata": {}
    },
    {
     "output_type": "stream",
     "name": "stdout",
     "text": [
      "Resposta correta!\n"
     ]
    },
    {
     "output_type": "execute_result",
     "data": {
      "text/plain": [
       "True"
      ]
     },
     "metadata": {},
     "execution_count": 18
    }
   ],
   "metadata": {}
  }
 ],
 "metadata": {
  "kernelspec": {
   "name": "python3",
   "display_name": "Python 3.8.10 64-bit"
  },
  "language_info": {
   "codemirror_mode": {
    "name": "ipython",
    "version": 3
   },
   "file_extension": ".py",
   "mimetype": "text/x-python",
   "name": "python",
   "nbconvert_exporter": "python",
   "pygments_lexer": "ipython3",
   "version": "3.8.10"
  },
  "interpreter": {
   "hash": "916dbcbb3f70747c44a77c7bcd40155683ae19c65e1c03b4aa3499c5328201f1"
  }
 },
 "nbformat": 4,
 "nbformat_minor": 5
}