{
 "cells": [
  {
   "cell_type": "markdown",
   "metadata": {},
   "source": [
    "# Problema\n",
    "\n",
    "Uma consideração importante no estudo de transferência de calor é a de determinar a distribuição de\n",
    "temperatura assintótica de uma placa fina quando a temperatura em seu bordo é conhecida. Suponha que a placa na\n",
    "Figura 2 represente uma seção transversal de uma barra de metal, com fluxo de calor desprezível na direção\n",
    "perpendicular à placa. Sejam $T_1, T_2, \\dots, T_6$ as temperaturas em seis vértices interiores do reticulado da Figura 1. A temperatura num vértice é aproximadamente igual à média dos quatro vértices vizinhos mais próximos - à esquerda, acima, à direita e abaixo. Por exemplo,\n",
    "\n",
    "$$ T_1 = \\frac{(10+20+T_2+T_4)}{4} \\hspace{0.5cm} \\text{ou} \\hspace{0.5cm} 4T_1-T_2-T_4=30  $$\n",
    "\n",
    "| <img src=\"figura2.png\" width=\"300px\"></img> |\n",
    "|:--:|\n",
    "|*Figura 1. Temperatura em seis vértices interiores do reticulado*|\n",
    "\n",
    "**a)** Escreva um sistema de seis equações cuja solução forneça estimativas para as temperaturas $T_1, T_2, \\dots, T_6$\n",
    "\n",
    "**b)** Resolva o sistema linear obtido em **a)** por:\n",
    "\n",
    "    1. Eliminação Gaussiana (sem e com pivotamento)\n",
    "    2. Fatoração LU (sem e com pivotamento)"
   ]
  },
  {
   "cell_type": "markdown",
   "metadata": {},
   "source": [
    "# Solução\n",
    "\n",
    "## a) Equações\n",
    "\n",
    "$$\n",
    "T_1 = \\frac{1}{4}(10 + 20 + T_2 + T_4) \\\\\n",
    "T_2 = \\frac{1}{4}(T_1 + 20 + T_3 + T_5) \\\\\n",
    "T_3 = \\frac{1}{4}(T_2 + 20 + 40 + T_6) \\\\\n",
    "T_4 = \\frac{1}{4}(10 + T_1 + T_5 + 20) \\\\\n",
    "T_5 = \\frac{1}{4}(T_4 + T_2 + T_6 + 20) \\\\\n",
    "T_6 = \\frac{1}{4}(T_5 + T_3 + 40 + 20)\n",
    "$$\n",
    "\n",
    "Logo,\n",
    "\n",
    "$$ \\begin{cases}\n",
    "    4T_1 &-&  T_2 &+& 0T_3 &-&  T_4 &+& 0T_5 &+& 0T_6 &=& 30 \\\\\n",
    "    -T_1 &+& 4T_2 &-& T_3  &+& 0T_4 &-& T_5  &+& 0T_6 &=& 20 \\\\\n",
    "    0T_1 &-&  T_2 &+& 4T_3 &+& 0T_4 &+& 0T_5 &-&  T_6 &=& 60  \\\\\n",
    "    -T_1 &+& 0T_2 &+& 0T_3 &+& 4T_4 &-& T_5  &+& 0T_6 &=& 30 \\\\\n",
    "    0T_1 &-&  T_2 &+& 0T_3 &-&  T_4 &+& 4T_5 &-&  T_6 &=& 20 \\\\\n",
    "    0T_1 &+& 0T_2 &-& T_3  &+& 0T_4 &-& T_5  &+& 4T_6 &=& 60\n",
    "\\end{cases} $$\n",
    "\n",
    "Que resulta na matriz de coeficientes:\n",
    "\n",
    "$$\n",
    "\\begin{bmatrix}\n",
    "    4 & -1 & 0 & -1 & 0 & 0 \\\\\n",
    "    -1 & 4 & -1 & 0 & -1 & 0 \\\\\n",
    "    0 & -1 & 4 & 0 & 0 & -1 \\\\\n",
    "    -1 & 0 & 0 & 4 & -1 & 0 \\\\\n",
    "    0 & -1 & 0 & -1 & 4 & -1 \\\\\n",
    "    0 & 0 & -1 & 0 & -1 & 4\n",
    "\\end{bmatrix}\n",
    "$$\n"
   ]
  },
  {
   "cell_type": "markdown",
   "metadata": {},
   "source": [
    "## b.1) [Eliminação Gaussiana](https://pt.wikipedia.org/wiki/Elimina%C3%A7%C3%A3o_de_Gauss)"
   ]
  },
  {
   "cell_type": "markdown",
   "metadata": {},
   "source": [
    "### Definição do Sistema"
   ]
  },
  {
   "cell_type": "markdown",
   "metadata": {},
   "source": [
    "Começamos definindo o sistema que temos interesse em resolver, utilizando a identidade:\n",
    "\n",
    "$$ Ax = b $$"
   ]
  },
  {
   "cell_type": "code",
   "execution_count": 212,
   "metadata": {},
   "outputs": [],
   "source": [
    "import numpy as np"
   ]
  },
  {
   "cell_type": "code",
   "execution_count": 213,
   "metadata": {},
   "outputs": [],
   "source": [
    "A = np.array([[ 4, -1,  0, -1,  0,  0], \n",
    "              [-1,  4, -1,  0, -1,  0], \n",
    "              [ 0, -1,  4,  0,  0, -1], \n",
    "              [-1,  0,  0,  4, -1,  0], \n",
    "              [ 0, -1,  0, -1,  4, -1],\n",
    "              [ 0,  0, -1,  0, -1,  4]]).astype(np.float)\n",
    "b = np.array([30, 20, 60, 30, 20, 60]).astype(np.float)"
   ]
  },
  {
   "cell_type": "code",
   "execution_count": 214,
   "metadata": {},
   "outputs": [
    {
     "name": "stdout",
     "output_type": "stream",
     "text": [
      "Dimensões da matriz: (6, 6)\n",
      "Matrix expandida:\n",
      "[[ 4. -1.  0. -1.  0.  0. 30.]\n",
      " [-1.  4. -1.  0. -1.  0. 20.]\n",
      " [ 0. -1.  4.  0.  0. -1. 60.]\n",
      " [-1.  0.  0.  4. -1.  0. 30.]\n",
      " [ 0. -1.  0. -1.  4. -1. 20.]\n",
      " [ 0.  0. -1.  0. -1.  4. 60.]]\n"
     ]
    }
   ],
   "source": [
    "m = A.shape[0]\n",
    "n = A.shape[1]\n",
    "print(f'Dimensões da matriz: {A.shape}')\n",
    "\n",
    "A_expandida = np.insert(A, n, b, axis=1)\n",
    "print('Matrix expandida:')\n",
    "print(A_expandida)"
   ]
  },
  {
   "cell_type": "markdown",
   "metadata": {},
   "source": [
    "### Sem pivotamento"
   ]
  },
  {
   "cell_type": "markdown",
   "metadata": {},
   "source": [
    "O primeiro passo da eliminação gaussiana sem pivotamento compreende em calcular a _[matriz triangular superior](https://pt.wikipedia.org/wiki/Matriz_triangular)_ da matriz. Um algoritmo simples para esse passo envolve somar toda linha $a_i$ abaixo da linha $a_j$ por um múltiplo $\\gamma$ de forma que:\n",
    "\n",
    "$$\n",
    "    a_{i,j} + \\gamma a_{j,j} = 0 \\Rightarrow\n",
    "    a_{i} := a_{i} + \\gamma a_{j} \\hspace{0.25cm} \\forall i > j\n",
    "$$\n",
    "\n",
    "Se $j$ varia de $1$ a $m$ numa matriz $A_{m,n}$, a matriz resultante cumpre as condições especificadas.\n"
   ]
  },
  {
   "cell_type": "code",
   "execution_count": 215,
   "metadata": {},
   "outputs": [
    {
     "name": "stdout",
     "output_type": "stream",
     "text": [
      "[[ 4.  -1.   0.  -1.   0.   0.  30. ]\n",
      " [ 0.   3.8 -1.  -0.2 -1.   0.  27.5]\n",
      " [ 0.   0.   3.7 -0.1 -0.3 -1.  67.3]\n",
      " [ 0.   0.   0.   3.7 -1.1 -0.  40.5]\n",
      " [ 0.   0.   0.   0.   3.4 -1.1 43.8]\n",
      " [ 0.   0.   0.   0.   0.   3.4 92.1]]\n"
     ]
    }
   ],
   "source": [
    "def matriz_triangular_superior(M):\n",
    "    \"\"\"\n",
    "        Calcula a matriz triangular superior da matriz M utilizando\n",
    "        um algoritmo simples da eliminação de Gauss\n",
    "    \"\"\"\n",
    "    \n",
    "    # Criar cópia da matriz expandida\n",
    "    A_new = M.copy()\n",
    "    m = A_new.shape[0]\n",
    "    n = A_new.shape[1]\n",
    "    \n",
    "    # Para cada coluna - 1 na matriz (ignoramos a coluna das variáveis dependentes)\n",
    "    for j in range(n-1):\n",
    "        # Selecionamos o pivô, como não há pivotamento, selecionamos os valores da diagonal\n",
    "        ajj = A_new[j, j]\n",
    "        \n",
    "        # Para cada linha i abaixo de j\n",
    "        for i in range(j+1, m):\n",
    "            # Selecionamos o valor da linha i na coluna j (abaixo de ajj)\n",
    "            aij = A_new[i, j]\n",
    "            \n",
    "            # Calculamos o múltiplo necessário do pivô ajj para que\n",
    "            # x * ajj + aij = 0\n",
    "            coeficiente = abs(aij) / ajj * -np.sign(aij)\n",
    "            \n",
    "            # Multiplicamos a linha inteira pelo coeficiente calculado\n",
    "            A_i = A_new[j,:]*coeficiente\n",
    "            \n",
    "            # Atualizamos o valor da linha para o novo valor, que \n",
    "            # deve ser 0 na posição aij\n",
    "            A_new[i] = A_new[i,:]+A_i\n",
    "            \n",
    "    return A_new\n",
    "\n",
    "\n",
    "A_u = matriz_triangular_superior(A_expandida)\n",
    "print(A_u.round(1))"
   ]
  },
  {
   "cell_type": "code",
   "execution_count": 216,
   "metadata": {},
   "outputs": [
    {
     "data": {
      "text/plain": [
       "array([30., 20., 60., 30., 20., 60.])"
      ]
     },
     "execution_count": 216,
     "metadata": {},
     "output_type": "execute_result"
    }
   ],
   "source": [
    "# Aqui podemos verificar o resultado\n",
    "# É possivel generalizar essa função para matrizes arbitrárias\n",
    "def resolver_sistema(ms):\n",
    "    T6 =  A_u[5,6] / A_u[5, 5]\n",
    "    T5 = (A_u[4,6] - A_u[4,5]*T6) / A_u[4,4]\n",
    "    T4 = (A_u[3,6] - A_u[3,5]*T6 - A_u[3,4]*T5) / A_u[3,3]\n",
    "    T3 = (A_u[2,6] - A_u[2,5]*T6 - A_u[2,4]*T5 - A_u[2,3]*T4) / A_u[2,2]\n",
    "    T2 = (A_u[1,6] - A_u[1,4]*T5 - A_u[1,3]*T4 - A_u[1,2]*T3) / A_u[1,1]\n",
    "    T1 = (A_u[0,6] - A_u[0,3]*T4 - A_u[0,1]*T2) / A_u[0,0]\n",
    "    return np.array([T1, T2, T3, T4, T5, T6])\n",
    "\n",
    "# Construir vetor x com os valores encontrados\n",
    "x = resolver_sistema(A_u)\n",
    "\n",
    "# Multiplicar pela matriz original\n",
    "A@x"
   ]
  },
  {
   "cell_type": "code",
   "execution_count": 217,
   "metadata": {},
   "outputs": [
    {
     "data": {
      "text/plain": [
       "array([30., 20., 60., 30., 20., 60.])"
      ]
     },
     "metadata": {},
     "output_type": "display_data"
    },
    {
     "data": {
      "text/plain": [
       "array([30., 20., 60., 30., 20., 60.])"
      ]
     },
     "metadata": {},
     "output_type": "display_data"
    }
   ],
   "source": [
    "# Vamos comparar com b\n",
    "display(A@x)\n",
    "display(b)"
   ]
  },
  {
   "cell_type": "markdown",
   "metadata": {},
   "source": [
    "Os dois valores são iguais, portanto, nosso algoritmo funciona."
   ]
  },
  {
   "cell_type": "markdown",
   "metadata": {},
   "source": [
    "#### Redução à forma de Gauss-Jordan\n",
    "Um algoritmo para reduzir a matriz triangular a uma matriz diagonal é simples e consiste na aplicação do algoritmo anterior em ordem inversa. Isto é, ao invés descermos a matriz diagonalmente e reduzirmos os valores abaixo de $a_{j,j}$ à zero, subimos no sentido contrário e reduzimos os valores acima de $a_{j,j}$ à zero. \n",
    "\n",
    "$$\n",
    "    a_{i,j} + \\gamma a_{j,j} = 0 \\Rightarrow\n",
    "    a_{i} := a_{i} + \\gamma a_{j} \\hspace{0.25cm} \\forall i < j\n",
    "$$\n",
    "\n",
    "Onde agora $j$ varia de $m$ a $1$."
   ]
  },
  {
   "cell_type": "code",
   "execution_count": 218,
   "metadata": {},
   "outputs": [
    {
     "data": {
      "text/plain": [
       "array([[ 1.  ,  0.  ,  0.  ,  0.  ,  0.  ,  0.  , 17.14],\n",
       "       [ 0.  ,  1.  ,  0.  ,  0.  ,  0.  ,  0.  , 21.43],\n",
       "       [ 0.  ,  0.  ,  1.  ,  0.  ,  0.  ,  0.  , 27.14],\n",
       "       [ 0.  ,  0.  ,  0.  ,  1.  ,  0.  ,  0.  , 17.14],\n",
       "       [ 0.  ,  0.  ,  0.  ,  0.  ,  1.  ,  0.  , 21.43],\n",
       "       [ 0.  ,  0.  ,  0.  ,  0.  ,  0.  ,  1.  , 27.14]])"
      ]
     },
     "execution_count": 218,
     "metadata": {},
     "output_type": "execute_result"
    }
   ],
   "source": [
    "def matriz_triangular_para_diagonal(M):\n",
    "    # Criar cópia da matriz original\n",
    "    A_new = M.copy()\n",
    "    \n",
    "    # Dimensões da matriz\n",
    "    m = A_new.shape[0]\n",
    "    n = A_new.shape[1]\n",
    "    \n",
    "    # Iterar sobre toda coluna j da matriz, começando\n",
    "    # pelo valor mais baixo da sua diagonal.\n",
    "    # Aqui, a função reversed inverte o intervalo retornado\n",
    "    # por range.\n",
    "    for j in reversed(range(m)):\n",
    "        \n",
    "        # Selecionar o valor na matriz na posição (j, j),\n",
    "        # ou seja, na sua diagonal\n",
    "        ajj = A_new[j, j]\n",
    "        \n",
    "        # Multiplicar a linha por 1/ajj, para que\n",
    "        # o valor em (j,j) = 1\n",
    "        A_new[j] = A_new[j]*(1/ajj)\n",
    "        \n",
    "        # Atualizar ajj para o valor normalizado\n",
    "        ajj = A_new[j,j]\n",
    "        \n",
    "        # Observe que o intervalo retornado pela função range é \n",
    "        # aberto em relação a seu limite superior j, assim,\n",
    "        # o retorno da função reversed resulta em (j-0]\n",
    "        # logo, i varia de 0 a j-1 nesse loop.\n",
    "        for i in reversed(range(j)):  \n",
    "        # Para cada valor no intervalo (j-0]\n",
    "        \n",
    "            # Selecionamos o valor aij\n",
    "            aij = A_new[i, j]\n",
    "            \n",
    "            # Calculamos gamma, ou o coeficiente de ajj para que\n",
    "            # aij + ajj*gamma = 0\n",
    "            coeficiente = abs(aij) / ajj * -np.sign(aij)\n",
    "            \n",
    "            # aj * gamma\n",
    "            A_i = A_new[j]*coeficiente\n",
    "            \n",
    "            # Atualizar linha i com o novo valor\n",
    "            # ai + aj*gamma = 0\n",
    "            A_new[i] = A_new[i]+A_i\n",
    "    \n",
    "    return A_new\n",
    "\n",
    "A_d = matriz_triangular_para_diagonal(A_u)\n",
    "A_d.round(2)"
   ]
  },
  {
   "cell_type": "markdown",
   "metadata": {},
   "source": [
    "Agora podemos verificar o resultado multiplicando a última coluna da matriz diagonal ```A_d``` pela matriz original ```A```:"
   ]
  },
  {
   "cell_type": "code",
   "execution_count": 219,
   "metadata": {},
   "outputs": [
    {
     "data": {
      "text/plain": [
       "array([30., 20., 60., 30., 20., 60.])"
      ]
     },
     "execution_count": 219,
     "metadata": {},
     "output_type": "execute_result"
    }
   ],
   "source": [
    "A @ A_d[:, -1]"
   ]
  },
  {
   "cell_type": "markdown",
   "metadata": {},
   "source": [
    "E o resultado, de fato, é o esperado.\n",
    "\n",
    "Podemos então compor as duas funções que criamos para facilitar o processo."
   ]
  },
  {
   "cell_type": "code",
   "execution_count": 224,
   "metadata": {},
   "outputs": [
    {
     "data": {
      "text/plain": [
       "array([17.14285714, 21.42857143, 27.14285714, 17.14285714, 21.42857143,\n",
       "       27.14285714])"
      ]
     },
     "metadata": {},
     "output_type": "display_data"
    },
    {
     "data": {
      "text/plain": [
       "array([30., 20., 60., 30., 20., 60.])"
      ]
     },
     "metadata": {},
     "output_type": "display_data"
    }
   ],
   "source": [
    "def resolver(A, b):\n",
    "    # Criar matriz expandida\n",
    "    A2 = np.insert(A, A.shape[1], b, axis=1)\n",
    "    x = matriz_triangular_para_diagonal(matriz_triangular_superior(A2))[:, -1]\n",
    "    return x\n",
    "\n",
    "display(resolver(A, b))\n",
    "display(A @ resolver(A, b))"
   ]
  },
  {
   "cell_type": "markdown",
   "metadata": {},
   "source": [
    "### Com pivotamento\n",
    "\n",
    "Pivotamento envolve reordenar as colunas e linhas da matriz em cada passo da eliminação Gaussiana, para que o pivô atual seja o maior valor da matriz em um passo específico.\n",
    "\n",
    "Para facilitar o processo primeiro implementamos funções para trocar duas linhas e duas colunas de uma matriz."
   ]
  },
  {
   "cell_type": "code",
   "execution_count": 121,
   "metadata": {},
   "outputs": [
    {
     "data": {
      "text/plain": [
       "matrix([[1, 2],\n",
       "        [3, 4]])"
      ]
     },
     "metadata": {},
     "output_type": "display_data"
    },
    {
     "data": {
      "text/plain": [
       "matrix([[3, 4],\n",
       "        [1, 2]])"
      ]
     },
     "metadata": {},
     "output_type": "display_data"
    },
    {
     "data": {
      "text/plain": [
       "matrix([[3, 4],\n",
       "        [1, 2]])"
      ]
     },
     "metadata": {},
     "output_type": "display_data"
    },
    {
     "data": {
      "text/plain": [
       "matrix([[4, 3],\n",
       "        [2, 1]])"
      ]
     },
     "metadata": {},
     "output_type": "display_data"
    }
   ],
   "source": [
    "def trocar_linha(A, i, j):\n",
    "    \"\"\"\n",
    "    Troca a linha i pela linha j de uma matriz A\n",
    "    \"\"\"\n",
    "    # É importante copiar a linha, pois caso contrário\n",
    "    # linha_i é uma referência à matriz original,\n",
    "    # e alterar A[i] alteraria a linha_i também.\n",
    "    linha_i = A[i,:].copy()\n",
    "    A[i,:] = A[j,:]\n",
    "    A[j,:] = linha_i\n",
    "    return A\n",
    "\n",
    "def trocar_coluna(A, i, j):\n",
    "    \"\"\"\n",
    "    Troca a coluna i pela coluna j de uma matriz A\n",
    "    \"\"\"\n",
    "    linha_i = A[:, i].copy()\n",
    "    A[:, i] = A[:, j]\n",
    "    A[:, j] = linha_i\n",
    "    return A\n",
    "    \n",
    "matriz_teste = np.matrix([[1, 2], [3, 4]])\n",
    "display(matriz_teste)\n",
    "display(trocar_linha(matriz_teste, 0, 1))\n",
    "\n",
    "display(matriz_teste)\n",
    "display(trocar_coluna(matriz_teste, 0, 1))"
   ]
  },
  {
   "cell_type": "markdown",
   "metadata": {},
   "source": [
    "> **NOTA** Observe que a variável ```matriz_teste``` utilizada como parâmetro das funções ```trocar_linha``` e ```trocar_coluna``` é alterada dentro da função, e a segunda linha ```display(matriz_teste)``` nos mostra uma matriz de formato $\\begin{bmatrix} 3 & 4 \\\\ 1 & 2 \\end{bmatrix} $. Para evitar esse comportamento, podemos passar como parâmetro uma cópia da matriz que queremos trocar as linhas/colunas: ```matriz_2 = trocar_linha(matriz_teste.copy(), 0, 1))```.\n",
    "\n",
    "Agora podemos implementar a solução com pivotamento reutilizando a função para a eliminação Gaussiana definida antes:"
   ]
  },
  {
   "cell_type": "code",
   "execution_count": 225,
   "metadata": {},
   "outputs": [
    {
     "data": {
      "text/plain": [
       "'Matriz original:'"
      ]
     },
     "metadata": {},
     "output_type": "display_data"
    },
    {
     "data": {
      "text/plain": [
       "array([[ 4., -1.,  0., -1.,  0.,  0., 30.],\n",
       "       [-1.,  4., -1.,  0., -1.,  0., 20.],\n",
       "       [ 0., -1.,  4.,  0.,  0., -1., 60.],\n",
       "       [-1.,  0.,  0.,  4., -1.,  0., 30.],\n",
       "       [ 0., -1.,  0., -1.,  4., -1., 20.],\n",
       "       [ 0.,  0., -1.,  0., -1.,  4., 60.]])"
      ]
     },
     "metadata": {},
     "output_type": "display_data"
    },
    {
     "data": {
      "text/plain": [
       "'Matriz escalonada sem pivotamento: '"
      ]
     },
     "metadata": {},
     "output_type": "display_data"
    },
    {
     "data": {
      "text/plain": [
       "array([[ 4. , -1. ,  0. , -1. ,  0. ,  0. , 30. ],\n",
       "       [ 0. ,  3.8, -1. , -0.2, -1. ,  0. , 27.5],\n",
       "       [ 0. ,  0. ,  3.7, -0.1, -0.3, -1. , 67.3],\n",
       "       [ 0. ,  0. ,  0. ,  3.7, -1.1, -0. , 40.5],\n",
       "       [ 0. ,  0. ,  0. ,  0. ,  3.4, -1.1, 43.8],\n",
       "       [ 0. ,  0. ,  0. ,  0. ,  0. ,  3.4, 92.1]])"
      ]
     },
     "metadata": {},
     "output_type": "display_data"
    },
    {
     "data": {
      "text/plain": [
       "'Matriz escalonada com pivotamento: '"
      ]
     },
     "metadata": {},
     "output_type": "display_data"
    },
    {
     "data": {
      "text/plain": [
       "array([[ 4. , -1. ,  0. , -1. ,  0. ,  0. , 30. ],\n",
       "       [ 0. ,  4. , -1. ,  0. ,  0. , -1. , 60. ],\n",
       "       [ 0. ,  0. ,  4. , -1. , -1. , -1. , 20. ],\n",
       "       [ 0. ,  0. ,  0. ,  3.5, -0.5, -0.2, 42.5],\n",
       "       [ 0. ,  0. ,  0. ,  0. ,  3.5, -0.5, 83. ],\n",
       "       [ 0. ,  0. ,  0. ,  0. ,  0. ,  3.1, 66.3]])"
      ]
     },
     "metadata": {},
     "output_type": "display_data"
    },
    {
     "data": {
      "text/plain": [
       "array([[1., 0., 0., 0., 0., 0.],\n",
       "       [0., 1., 0., 0., 0., 0.],\n",
       "       [0., 0., 1., 0., 0., 0.],\n",
       "       [0., 0., 0., 1., 0., 0.],\n",
       "       [0., 0., 0., 0., 1., 0.],\n",
       "       [0., 0., 0., 0., 0., 1.]])"
      ]
     },
     "metadata": {},
     "output_type": "display_data"
    }
   ],
   "source": [
    "\n",
    "# Vamos testar com o sistema de equações providenciado no problema.\n",
    "A2 = np.insert(A, A.shape[1], b, axis=1)\n",
    "\n",
    "max_lin = np.max(M2[0,:-1])\n",
    "max_col = np.max(M2[:-1, 0])\n",
    "\n",
    "m = np.max(M2)\n",
    "i, j = np.where(M2 == np.max(M2))\n",
    "\n",
    "# Um cuidado necessário nessa implementação deve ser o de não considerar\n",
    "# a última coluna na busca pelo maior valor da matriz, pois esta contém\n",
    "# os valores de variáveis dependentes.\n",
    "def maximizar_pivo(M, index=0, ignore_last_col=True, log=False, I = None):\n",
    "    M_view = M[:, :-1] if ignore_last_col else M\n",
    "    \n",
    "    # Caso tenhamos mais de um valor maior\n",
    "    v = np.argmax(M_view)\n",
    "    i = int(np.floor(v/M_view.shape[1]))\n",
    "    j = int(v - i*M_view.shape[1])\n",
    "    \n",
    "    if log:\n",
    "        display(f'Coordenadas do valor maior: {i}, {j}')\n",
    "\n",
    "    trocar_linha(M, 0, i)\n",
    "    trocar_coluna(M, 0, j)\n",
    "    \n",
    "    # Fazer mesma alteração na matriz identidade\n",
    "    if I is not None:\n",
    "        trocar_linha(I, 0, i)\n",
    "        trocar_coluna(I, 0, j)\n",
    "    return M, I\n",
    "\n",
    "def matriz_triangular_superior(M, pivotamento=False, log=False):\n",
    "    \"\"\"\n",
    "        Calcula a matriz triangular superior da matriz M utilizando\n",
    "        um algoritmo simples da eliminação de Gauss\n",
    "    \"\"\"\n",
    "    # Criar cópia da matriz expandida\n",
    "    A_new = M.copy()\n",
    "    m = A_new.shape[0]\n",
    "    n = A_new.shape[1]\n",
    "    \n",
    "    I = np.eye(m)\n",
    "    \n",
    "    # Para cada coluna - 1 na matriz (ignoramos a coluna das variáveis dependentes)\n",
    "    for j in range(n-1):\n",
    "        \n",
    "        if log:\n",
    "            display('Estado atual da matriz:')\n",
    "            display(A_new.round(1))\n",
    "        \n",
    "        # Maximizar pivô\n",
    "        if pivotamento:\n",
    "            maximizar_pivo(A_new[j:, j:], j, True, log, I[j:, j:])\n",
    "            \n",
    "        if log:\n",
    "            display('Resultado pivotamento:')\n",
    "            display(A_new.round(1))\n",
    "        \n",
    "        # Selecionamos o pivô, como não há pivotamento, selecionamos os valores da diagonal\n",
    "        ajj = A_new[j, j]\n",
    "        \n",
    "        # Para cada linha i abaixo de j\n",
    "        for i in range(j+1, m):\n",
    "            # Selecionamos o valor da linha i na coluna j (abaixo de ajj)\n",
    "            aij = A_new[i, j]\n",
    "            \n",
    "            # Calculamos o múltiplo necessário do pivô ajj para que\n",
    "            # x * ajj + aij = 0\n",
    "            coeficiente = abs(aij) / ajj * -np.sign(aij)\n",
    "            \n",
    "            # Multiplicamos a linha inteira pelo coeficiente calculado\n",
    "            A_i = A_new[j,:]*coeficiente\n",
    "            \n",
    "            # Atualizamos o valor da linha para o novo valor, que \n",
    "            # deve ser 0 na posição aij\n",
    "            A_new[i] = A_new[i,:]+A_i\n",
    "            \n",
    "        if log:\n",
    "            display('Resultado:')\n",
    "            display(A_new.round(1))\n",
    "    return A_new, I\n",
    "\n",
    "\n",
    "display('Matriz original:')\n",
    "display(A2.round(1))\n",
    "\n",
    "display('Matriz escalonada sem pivotamento: ')\n",
    "A_es, _ = matriz_triangular_superior(A2, False)\n",
    "display(A_es.round(1))\n",
    "\n",
    "display('Matriz escalonada com pivotamento: ')\n",
    "A_ec, I = matriz_triangular_superior(A2, True)\n",
    "display(A_ec.round(1))\n",
    "display(I)\n"
   ]
  },
  {
   "cell_type": "markdown",
   "metadata": {},
   "source": [
    "### Verificando resultado da matriz escalonada com pivotamento\n",
    "\n",
    "Podemos verificar o resultado com a função ```resolver_sistema(A)``` que definimos anteriormente:"
   ]
  },
  {
   "cell_type": "code",
   "execution_count": 231,
   "metadata": {},
   "outputs": [
    {
     "data": {
      "text/plain": [
       "array([17.14285714, 21.42857143, 27.14285714, 17.14285714, 21.42857143,\n",
       "       27.14285714])"
      ]
     },
     "metadata": {},
     "output_type": "display_data"
    },
    {
     "data": {
      "text/plain": [
       "array([30., 20., 60., 30., 20., 60.])"
      ]
     },
     "metadata": {},
     "output_type": "display_data"
    }
   ],
   "source": [
    "x = resolver_sistema(A_ec)\n",
    "display(A@x)"
   ]
  },
  {
   "cell_type": "code",
   "execution_count": 228,
   "metadata": {},
   "outputs": [
    {
     "data": {
      "text/plain": [
       "array([[ 1. ,  0. ,  0. ,  0. ,  0. ,  0. , 18.3],\n",
       "       [ 0. ,  1. ,  0. ,  0. ,  0. ,  0. , 25.7],\n",
       "       [ 0. ,  0. ,  1. ,  0. ,  0. ,  0. , 21.5],\n",
       "       [ 0. ,  0. ,  0. ,  1. ,  0. ,  0. , 17.6],\n",
       "       [ 0. ,  0. ,  0. ,  0. ,  1. ,  0. , 27.1],\n",
       "       [ 0. ,  0. ,  0. ,  0. ,  0. ,  1. , 21.4]])"
      ]
     },
     "metadata": {},
     "output_type": "display_data"
    },
    {
     "data": {
      "text/plain": [
       "array([[30.        ],\n",
       "       [35.9630102 ],\n",
       "       [38.95408163],\n",
       "       [24.73852041],\n",
       "       [43.85204082],\n",
       "       [37.04081633]])"
      ]
     },
     "execution_count": 228,
     "metadata": {},
     "output_type": "execute_result"
    }
   ],
   "source": [
    "\n",
    "def matriz_triangular_para_diagonal(M, pivotamento=False):\n",
    "    # Criar cópia da matriz original\n",
    "    A_new = M.copy()\n",
    "    \n",
    "    # Dimensões da matriz\n",
    "    m = A_new.shape[0]\n",
    "    n = A_new.shape[1]\n",
    "    \n",
    "    I = np.eye(m)\n",
    "    \n",
    "    # Iterar sobre toda coluna j da matriz, começando\n",
    "    # pelo valor mais baixo da sua diagonal.\n",
    "    # Aqui, a função reversed inverte o intervalo retornado\n",
    "    # por range.\n",
    "    for j in reversed(range(m)):\n",
    "        \n",
    "        \n",
    "        # Selecionar o valor na matriz na posição (j, j),\n",
    "        # ou seja, na sua diagonal\n",
    "        ajj = A_new[j, j]\n",
    "        \n",
    "        # Multiplicar a linha por 1/ajj, para que\n",
    "        # o valor em (j,j) = 1\n",
    "        A_new[j] = A_new[j]*(1/ajj)\n",
    "        \n",
    "        # Atualizar ajj para o valor normalizado\n",
    "        ajj = A_new[j,j]\n",
    "        \n",
    "        # Observe que o intervalo retornado pela função range é \n",
    "        # aberto em relação a seu limite superior j, assim,\n",
    "        # o retorno da função reversed resulta em (j-0]\n",
    "        # logo, i varia de 0 a j-1 nesse loop.\n",
    "        for i in reversed(range(j)):  \n",
    "        # Para cada valor no intervalo (j-0]\n",
    "        \n",
    "            if pivotamento and i > 1:\n",
    "                maximizar_pivo(A_new[:i, :i], i, True, False, I[:i, :i])\n",
    "        \n",
    "            # Selecionamos o valor aij\n",
    "            aij = A_new[i, j]\n",
    "            \n",
    "            # Calculamos gamma, ou o coeficiente de ajj para que\n",
    "            # aij + ajj*gamma = 0\n",
    "            coeficiente = abs(aij) / ajj * -np.sign(aij)\n",
    "            \n",
    "            # aj * gamma\n",
    "            A_i = A_new[j]*coeficiente\n",
    "            \n",
    "            # Atualizar linha i com o novo valor\n",
    "            # ai + aj*gamma = 0\n",
    "            A_new[i] = A_new[i]+A_i\n",
    "    \n",
    "    return A_new, I\n",
    "\n",
    "A_ecd, I = matriz_triangular_para_diagonal(A_ec, False)\n",
    "display(A_ecd.round(1))\n",
    "\n",
    "A @ A_ecd[:, -1:]"
   ]
  },
  {
   "cell_type": "markdown",
   "metadata": {},
   "source": [
    "## b.2) [Fatoração LU](https://pt.wikipedia.org/wiki/Decomposi%C3%A7%C3%A3o_LU)"
   ]
  },
  {
   "cell_type": "markdown",
   "metadata": {},
   "source": [
    "A fatoração de uma matriz $A$ é uma equação que expressa $A$ como o produto de duas ou mais matrizes. \n",
    "\n",
    "Na linguagem da ciência da computação, a expressão que representa $A$ na forma de um produto pode ser entendida como um processamento de dados, pois os dados são organizados em duas ou mais partes cujas estruturas, de alguma forma, são mais fáceis de lidar computacionalmente.\n",
    "\n",
    "A fatoração LU é amplamente aplicada quando quer-se resolver uma sequência de equações, todas com a mesma matriz de coeficientes, por exemplo:\n",
    "\n",
    "$$ Ax=b_1, \\quad Ax=b_2, \\quad \\cdots, Ax=b_n. $$"
   ]
  },
  {
   "cell_type": "markdown",
   "metadata": {},
   "source": [
    "### Sem pivotamento"
   ]
  },
  {
   "cell_type": "code",
   "execution_count": 267,
   "metadata": {},
   "outputs": [
    {
     "data": {
      "text/plain": [
       "array([ 4., -1.,  0., -1.,  0.,  0.])"
      ]
     },
     "metadata": {},
     "output_type": "display_data"
    },
    {
     "data": {
      "text/plain": [
       "array([ 0.  ,  3.75, -1.  , -0.25, -1.  ,  0.  ])"
      ]
     },
     "metadata": {},
     "output_type": "display_data"
    },
    {
     "data": {
      "text/plain": [
       "array([ 0.        ,  0.        ,  3.73333333, -0.06666667, -0.26666667,\n",
       "       -1.        ])"
      ]
     },
     "metadata": {},
     "output_type": "display_data"
    },
    {
     "data": {
      "text/plain": [
       "array([ 0.        ,  0.        ,  0.        ,  3.73214286, -1.07142857,\n",
       "       -0.01785714])"
      ]
     },
     "metadata": {},
     "output_type": "display_data"
    },
    {
     "data": {
      "text/plain": [
       "array([ 0.        ,  0.        ,  0.        ,  0.        ,  3.40669856,\n",
       "       -1.07655502])"
      ]
     },
     "metadata": {},
     "output_type": "display_data"
    },
    {
     "data": {
      "text/plain": [
       "array([0.        , 0.        , 0.        , 0.        , 0.        ,\n",
       "       3.39185393])"
      ]
     },
     "metadata": {},
     "output_type": "display_data"
    },
    {
     "data": {
      "text/plain": [
       "array([[ 4., -1.,  0., -1.,  0.,  0.],\n",
       "       [-1.,  4., -1.,  0., -1.,  0.],\n",
       "       [ 0., -1.,  4.,  0.,  0., -1.],\n",
       "       [-1.,  0.,  0.,  4., -1.,  0.],\n",
       "       [ 0., -1.,  0., -1.,  4., -1.],\n",
       "       [ 0.,  0., -1.,  0., -1.,  4.]])"
      ]
     },
     "metadata": {},
     "output_type": "display_data"
    },
    {
     "data": {
      "text/plain": [
       "array([[ 1. ,  0. ,  0. ,  0. ,  0. ,  0. ],\n",
       "       [-0.2,  1. ,  0. ,  0. ,  0. ,  0. ],\n",
       "       [ 0. , -0.3,  1. ,  0. ,  0. ,  0. ],\n",
       "       [-0.2, -0.1, -0. ,  1. ,  0. ,  0. ],\n",
       "       [ 0. , -0.3, -0.1, -0.3,  1. ,  0. ],\n",
       "       [ 0. ,  0. , -0.3, -0. , -0.3,  1. ]])"
      ]
     },
     "metadata": {},
     "output_type": "display_data"
    },
    {
     "data": {
      "text/plain": [
       "array([[ 4. , -0. ,  0. , -0. ,  0. ,  0. ],\n",
       "       [-0. ,  3.8, -0. , -0. , -0. ,  0. ],\n",
       "       [ 0. , -0. ,  3.7, -0. , -0. , -0. ],\n",
       "       [-0. , -0. , -0. ,  3.7, -0. , -0. ],\n",
       "       [ 0. , -0. , -0. , -0. ,  3.4, -0. ],\n",
       "       [ 0. ,  0. , -0. , -0. , -0. ,  3.4]])"
      ]
     },
     "metadata": {},
     "output_type": "display_data"
    }
   ],
   "source": [
    "#A2 = A.copy()\n",
    "#A_0 = A2.copy()\n",
    "As = [A.copy()]\n",
    "Ls = [np.eye(A.shape[0])]\n",
    "\n",
    "for j in range(As[0].shape[0]):\n",
    "    A_i = As[j]\n",
    "    display(A_i[j, :])\n",
    "    a_nn = A_i[j,j]\n",
    "    \n",
    "    A_j = A_i.copy()\n",
    "    #L_n = Ls[j].copy()\n",
    "    L_n = np.eye(A_i.shape[0])\n",
    "    for i in range(j+1, n):\n",
    "        a_in = A_j[i,j]\n",
    "        l_in = -a_in/a_nn\n",
    "        #display(A_i[i,:]*l_in+A_j[i,:])\n",
    "        #A_j[i,:] = (A_i[j,:]*l_in+A_j[i,:])\n",
    "        L_n[i, j] = l_in\n",
    "        \n",
    "    A_n = L_n@A_j\n",
    "    \n",
    "    As.append(A_n)\n",
    "    Ls.append(L_n)\n",
    "\n",
    "#display(Ls)\n",
    "display(A)\n",
    "L = np.eye(A.shape[0])\n",
    "for L_i in Ls:\n",
    "    L = L@np.linalg.inv(L_i)\n",
    "display(L.round(1))\n",
    "display((L*As[-1]).round(1))\n",
    "#display((Ls[-1]@As[-1]).round())\n",
    "    "
   ]
  },
  {
   "cell_type": "markdown",
   "metadata": {},
   "source": []
  },
  {
   "cell_type": "markdown",
   "metadata": {},
   "source": [
    "### Com pivotamento"
   ]
  },
  {
   "cell_type": "markdown",
   "metadata": {},
   "source": [
    "## Solução simples (numpy.linalg.solve)\n",
    "\n",
    "O algoritmo na biblioteca usa decomposição LU."
   ]
  },
  {
   "cell_type": "code",
   "execution_count": 229,
   "metadata": {},
   "outputs": [
    {
     "data": {
      "text/plain": [
       "array([17.14285714, 21.42857143, 27.14285714, 17.14285714, 21.42857143,\n",
       "       27.14285714])"
      ]
     },
     "metadata": {},
     "output_type": "display_data"
    }
   ],
   "source": [
    "x = np.linalg.solve(A, b)\n",
    "display(x)"
   ]
  },
  {
   "cell_type": "code",
   "execution_count": 230,
   "metadata": {},
   "outputs": [
    {
     "data": {
      "text/plain": [
       "array([30., 20., 60., 30., 20., 60.])"
      ]
     },
     "execution_count": 230,
     "metadata": {},
     "output_type": "execute_result"
    }
   ],
   "source": [
    "A@x # Verificando."
   ]
  }
 ],
 "metadata": {
  "kernelspec": {
   "display_name": "Python 3",
   "language": "python",
   "name": "python3"
  },
  "language_info": {
   "codemirror_mode": {
    "name": "ipython",
    "version": 3
   },
   "file_extension": ".py",
   "mimetype": "text/x-python",
   "name": "python",
   "nbconvert_exporter": "python",
   "pygments_lexer": "ipython3",
   "version": "3.8.5"
  }
 },
 "nbformat": 4,
 "nbformat_minor": 5
}
